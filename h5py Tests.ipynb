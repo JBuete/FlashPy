{
 "cells": [
  {
   "cell_type": "markdown",
   "metadata": {},
   "source": [
    "# h5py Benchmarking"
   ]
  },
  {
   "cell_type": "markdown",
   "metadata": {},
   "source": [
    "I want to figure out if I'm using h5py to its fullest capacity, or if I'm artificially slowing the code down by reading things into memory"
   ]
  },
  {
   "cell_type": "code",
   "execution_count": 1,
   "metadata": {
    "collapsed": true
   },
   "outputs": [],
   "source": [
    "import h5py\n",
    "import numpy"
   ]
  },
  {
   "cell_type": "code",
   "execution_count": 3,
   "metadata": {
    "collapsed": true
   },
   "outputs": [],
   "source": [
    "datafile = \"tests/example_data\"\n",
    "\n",
    "data = h5py.File(datafile)"
   ]
  },
  {
   "cell_type": "code",
   "execution_count": 20,
   "metadata": {
    "collapsed": false
   },
   "outputs": [
    {
     "name": "stdout",
     "output_type": "stream",
     "text": [
      "100 loops, best of 3: 14.7 ms per loop\n"
     ]
    }
   ],
   "source": [
    "%timeit data['dens'].value[data['dens'].value < 5]"
   ]
  },
  {
   "cell_type": "code",
   "execution_count": 21,
   "metadata": {
    "collapsed": false
   },
   "outputs": [
    {
     "name": "stdout",
     "output_type": "stream",
     "text": [
      "100 loops, best of 3: 14.9 ms per loop\n"
     ]
    }
   ],
   "source": [
    "%timeit data['dens'][:][data['dens'][:] < 5]"
   ]
  },
  {
   "cell_type": "code",
   "execution_count": 34,
   "metadata": {
    "collapsed": false
   },
   "outputs": [
    {
     "data": {
      "text/plain": [
       "['block size',\n",
       " 'bounding box',\n",
       " 'coordinates',\n",
       " 'dens',\n",
       " 'eint',\n",
       " 'ener',\n",
       " 'gid',\n",
       " 'integer runtime parameters',\n",
       " 'integer scalars',\n",
       " 'logical runtime parameters',\n",
       " 'logical scalars',\n",
       " 'node type',\n",
       " 'pres',\n",
       " 'real runtime parameters',\n",
       " 'real scalars',\n",
       " 'refine level',\n",
       " 'sim info',\n",
       " 'string runtime parameters',\n",
       " 'string scalars',\n",
       " 'temp',\n",
       " 'unknown names',\n",
       " 'velx',\n",
       " 'vely',\n",
       " 'velz']"
      ]
     },
     "execution_count": 34,
     "metadata": {},
     "output_type": "execute_result"
    }
   ],
   "source": [
    "[key for key in data.keys()]"
   ]
  },
  {
   "cell_type": "code",
   "execution_count": 15,
   "metadata": {
    "collapsed": false
   },
   "outputs": [
    {
     "name": "stdout",
     "output_type": "stream",
     "text": [
      "Help on method read_direct in module h5py._hl.dataset:\n",
      "\n",
      "read_direct(dest, source_sel=None, dest_sel=None) method of h5py._hl.dataset.Dataset instance\n",
      "    Read data directly from HDF5 into an existing NumPy array.\n",
      "    \n",
      "    The destination array must be C-contiguous and writable.\n",
      "    Selections must be the output of numpy.s_[<args>].\n",
      "    \n",
      "    Broadcasting is supported for simple indexing.\n",
      "\n"
     ]
    }
   ],
   "source": [
    "help(data['dens'].read_direct)"
   ]
  },
  {
   "cell_type": "code",
   "execution_count": 22,
   "metadata": {
    "collapsed": true
   },
   "outputs": [],
   "source": [
    "import yt"
   ]
  },
  {
   "cell_type": "code",
   "execution_count": 35,
   "metadata": {
    "collapsed": false
   },
   "outputs": [
    {
     "name": "stderr",
     "output_type": "stream",
     "text": [
      "yt : [INFO     ] 2017-04-05 15:00:54,117 Parameters: current_time              = 5.00009021402e+14\n",
      "yt : [INFO     ] 2017-04-05 15:00:54,122 Parameters: domain_dimensions         = [128 128 128]\n",
      "yt : [INFO     ] 2017-04-05 15:00:54,132 Parameters: domain_left_edge          = [ -3.88500000e+20  -3.88500000e+20  -3.88500000e+20]\n",
      "yt : [INFO     ] 2017-04-05 15:00:54,134 Parameters: domain_right_edge         = [  3.88500000e+20   3.88500000e+20   3.88500000e+20]\n",
      "yt : [INFO     ] 2017-04-05 15:00:54,135 Parameters: cosmological_simulation   = 0.0\n"
     ]
    }
   ],
   "source": [
    "test = yt.load(datafile)"
   ]
  },
  {
   "cell_type": "code",
   "execution_count": 38,
   "metadata": {
    "collapsed": false
   },
   "outputs": [
    {
     "ename": "AttributeError",
     "evalue": "'FLASHDataset' object has no attribute 'fields'",
     "output_type": "error",
     "traceback": [
      "\u001b[0;31m---------------------------------------------------------------------------\u001b[0m",
      "\u001b[0;31mAttributeError\u001b[0m                            Traceback (most recent call last)",
      "\u001b[0;32m<ipython-input-38-69a5cdc2fc6c>\u001b[0m in \u001b[0;36m<module>\u001b[0;34m()\u001b[0m\n\u001b[0;32m----> 1\u001b[0;31m \u001b[0mtest\u001b[0m\u001b[0;34m.\u001b[0m\u001b[0mfields\u001b[0m\u001b[0;34m\u001b[0m\u001b[0m\n\u001b[0m",
      "\u001b[0;31mAttributeError\u001b[0m: 'FLASHDataset' object has no attribute 'fields'"
     ]
    }
   ],
   "source": [
    "test."
   ]
  },
  {
   "cell_type": "code",
   "execution_count": null,
   "metadata": {
    "collapsed": true
   },
   "outputs": [],
   "source": []
  }
 ],
 "metadata": {
  "kernelspec": {
   "display_name": "Python 3",
   "language": "python",
   "name": "python3"
  },
  "language_info": {
   "codemirror_mode": {
    "name": "ipython",
    "version": 3
   },
   "file_extension": ".py",
   "mimetype": "text/x-python",
   "name": "python",
   "nbconvert_exporter": "python",
   "pygments_lexer": "ipython3",
   "version": "3.4.3"
  }
 },
 "nbformat": 4,
 "nbformat_minor": 0
}
